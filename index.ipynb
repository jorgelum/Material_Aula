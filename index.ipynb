{
 "cells": [
  {
   "cell_type": "raw",
   "id": "135e1132-b313-48ff-84e3-ef3909ed0157",
   "metadata": {
    "tags": []
   },
   "source": [
    "---\n",
    "title: \"Modelagem\"\n",
    "subtitle: \"Entendendo Sistemas Dinâmicos\"\n",
    "author: \"Jorge Luiz Mendes\"\n",
    "date: \"01-02-2024\"\n",
    "logo: \"logo.png\"\n",
    "format:\n",
    "  revealjs:    \n",
    "        theme: \"mytheme.scss\"\n",
    "        slide-number: true\n",
    "        show-slide-number: all\n",
    "        footer: \"UNIFESP\"\n",
    "jupyter: python3\n",
    "---"
   ]
  },
  {
   "cell_type": "markdown",
   "id": "d926df78-8145-4c99-8792-6166a9ea3965",
   "metadata": {},
   "source": [
    "## Introdução"
   ]
  },
  {
   "cell_type": "markdown",
   "id": "f809939d-965e-4118-af76-959ed729136e",
   "metadata": {},
   "source": [
    "Na engenharia química, as equações diferenciais ordinárias (EDO's) são ferramentas poderosas para modelar e compreender o comportamento de sistemas dinâmicos. "
   ]
  },
  {
   "cell_type": "markdown",
   "id": "70b27033-27aa-479d-b082-760f839bf596",
   "metadata": {},
   "source": [
    "## Exemplos"
   ]
  },
  {
   "cell_type": "markdown",
   "id": "60b60391-34d8-47bf-89bd-f689a0b98580",
   "metadata": {},
   "source": [
    "* Cinética de Reações"
   ]
  },
  {
   "cell_type": "markdown",
   "id": "bead9ebe-608b-490a-bea6-7c22bbf642d8",
   "metadata": {},
   "source": [
    "## Exemplos"
   ]
  },
  {
   "cell_type": "markdown",
   "id": "9754045d-e57c-4720-bdf8-fbf98f6b0810",
   "metadata": {},
   "source": [
    "* Cinética de Reações\n",
    "* Balanços de Massa e Energia"
   ]
  },
  {
   "cell_type": "markdown",
   "id": "0b1dffb8-68df-4c31-b048-ee554fd61541",
   "metadata": {},
   "source": [
    "## Exemplos"
   ]
  },
  {
   "cell_type": "markdown",
   "id": "14370238-39bf-4b66-8c0e-27f73de12287",
   "metadata": {},
   "source": [
    "* Cinética de Reações\n",
    "* Balanços de Massa e Energia\n",
    "* Modelo de Propagação de Doenças "
   ]
  },
  {
   "cell_type": "markdown",
   "id": "ef30b985-1080-4153-b5e9-12070fe62772",
   "metadata": {},
   "source": [
    "## Objetivo"
   ]
  },
  {
   "cell_type": "markdown",
   "id": "b73f022d-733f-4feb-a617-a24388b00c62",
   "metadata": {},
   "source": [
    "A linguagem Python possui excelentes bibliotecas para resolução de edo's. O [Scipy](https://docs.scipy.org/doc/scipy/index.html) é um pacote científico com diversas funcionalidades para resolver sistemas, integrais numéricas, edo's  e entre outras."
   ]
  },
  {
   "cell_type": "markdown",
   "id": "1f487721-7e2c-48db-b4ee-c18e98e466de",
   "metadata": {
    "tags": []
   },
   "source": [
    "## Bibliotecas"
   ]
  },
  {
   "cell_type": "code",
   "execution_count": 1,
   "id": "a4161e5e-0548-41c9-9cd4-2fd67b8fb92e",
   "metadata": {
    "tags": []
   },
   "outputs": [],
   "source": [
    "#|echo: False\n",
    "import pandas as pd\n",
    "import numpy as np # Algebra\n",
    "import matplotlib.pyplot as plt # Gráficos\n",
    "from scipy.integrate import odeint # ODE's"
   ]
  },
  {
   "cell_type": "markdown",
   "id": "0d1ff201-5379-416a-b335-b0396049fc96",
   "metadata": {
    "tags": []
   },
   "source": [
    "## Problema"
   ]
  },
  {
   "cell_type": "markdown",
   "id": "edc884b0-aa55-478a-a5fd-cad1308f4ef1",
   "metadata": {},
   "source": [
    "Na pandemia de covid-19 foi de extrema importância o estudo de modelos para prever o comportamento do vírus em relação a população para poder melhor manejar os recursos. Um dos modelos mais simples para estudo é o SIR.\n",
    "\n",
    "- Sucetíveis\n",
    "- Infectados\n",
    "- Recuperados\n",
    "\n"
   ]
  },
  {
   "cell_type": "markdown",
   "id": "fd80ce7d-c7f1-47ba-b394-3deecf037664",
   "metadata": {},
   "source": [
    "## Problema"
   ]
  },
  {
   "cell_type": "markdown",
   "id": "aaf1d724-4dfa-4391-8969-8ec5aa558521",
   "metadata": {},
   "source": [
    "Equacionamento:\n",
    "$$ \\frac{dS}{dt} = -\\beta * S * I $$\n",
    "$$ \\frac{dI}{dt} = \\beta * S * I - \\lambda * I $$\n",
    "$$ \\frac{dR}{dt} = \\lambda * I $$"
   ]
  },
  {
   "cell_type": "markdown",
   "id": "0a87e6f0-959e-4594-9055-9d2783bd49c8",
   "metadata": {},
   "source": [
    "## Problema"
   ]
  },
  {
   "cell_type": "markdown",
   "id": "1a6a2628-f112-4e35-878b-05a8617273ae",
   "metadata": {},
   "source": [
    "Lembrando que:\n",
    "$$ \\beta:taxa \\ de \\ transmissão$$\n",
    "$$ \\lambda:taxa \\ de \\ recuperação$$"
   ]
  },
  {
   "cell_type": "markdown",
   "id": "071d1015-63ef-43f6-a02d-0da74e995424",
   "metadata": {},
   "source": [
    "## Problema"
   ]
  },
  {
   "cell_type": "markdown",
   "id": "7ec1b4ff-c71e-4503-8cf8-9a26a479eb49",
   "metadata": {},
   "source": [
    "com o código:"
   ]
  },
  {
   "cell_type": "code",
   "execution_count": 2,
   "id": "e0c21dfa-29ce-4c05-9a87-5c6e5d19f903",
   "metadata": {
    "tags": []
   },
   "outputs": [],
   "source": [
    "#|echo: False\n",
    "#| code-line-numbers: \"|5\"\n",
    "def SIR(y,t):\n",
    "    \n",
    "    beta = 0.3\n",
    "    gamma = 0.1   \n",
    "    S, I, R = y\n",
    "    dSdt = -beta*S*I\n",
    "    dIdt = beta*S*I - gamma*I\n",
    "    dRdt = gamma*I\n",
    "    return [dSdt, dIdt, dRdt]"
   ]
  },
  {
   "cell_type": "markdown",
   "id": "8b1b0bed-89de-4d03-a737-af5daff360ce",
   "metadata": {},
   "source": [
    "**Cuidado com a posição dos argumentos!!!** "
   ]
  },
  {
   "cell_type": "markdown",
   "id": "2065331c-8983-4789-8701-6c2cfc933ea9",
   "metadata": {},
   "source": [
    "## Condições Iniciais"
   ]
  },
  {
   "cell_type": "code",
   "execution_count": 3,
   "id": "dfa7abbf-dc53-4a53-a3a9-9360175b3b6f",
   "metadata": {
    "tags": []
   },
   "outputs": [],
   "source": [
    "#|echo: False\n",
    "S0 = 0.9  # proporção inicial de indivíduos suscetíveis \n",
    "I0 = 0.1  # proporção inicial de indivíduos infectados \n",
    "R0 = 0.0  # proporção inicial de indivíduos recuperados \n",
    "y0 = [S0, I0, R0]\n",
    "t = np.linspace(0,100,1001) # intervalo de tempo em dias"
   ]
  },
  {
   "cell_type": "markdown",
   "id": "4eb72aaa-13e1-4282-803d-6448f82fde2b",
   "metadata": {},
   "source": [
    "## Resultados"
   ]
  },
  {
   "cell_type": "code",
   "execution_count": 4,
   "id": "e81fae10-93fa-4fbb-b083-e05e719b29a3",
   "metadata": {
    "tags": []
   },
   "outputs": [
    {
     "data": {
      "text/html": [
       "<div>\n",
       "<style scoped>\n",
       "    .dataframe tbody tr th:only-of-type {\n",
       "        vertical-align: middle;\n",
       "    }\n",
       "\n",
       "    .dataframe tbody tr th {\n",
       "        vertical-align: top;\n",
       "    }\n",
       "\n",
       "    .dataframe thead th {\n",
       "        text-align: right;\n",
       "    }\n",
       "</style>\n",
       "<table border=\"1\" class=\"dataframe\">\n",
       "  <thead>\n",
       "    <tr style=\"text-align: right;\">\n",
       "      <th></th>\n",
       "      <th>S</th>\n",
       "      <th>I</th>\n",
       "      <th>R</th>\n",
       "      <th>Tempo(dias)</th>\n",
       "    </tr>\n",
       "  </thead>\n",
       "  <tbody>\n",
       "    <tr>\n",
       "      <th>0</th>\n",
       "      <td>0.900000</td>\n",
       "      <td>0.100000</td>\n",
       "      <td>0.000000</td>\n",
       "      <td>0.0</td>\n",
       "    </tr>\n",
       "    <tr>\n",
       "      <th>1</th>\n",
       "      <td>0.897281</td>\n",
       "      <td>0.101710</td>\n",
       "      <td>0.001009</td>\n",
       "      <td>0.1</td>\n",
       "    </tr>\n",
       "    <tr>\n",
       "      <th>2</th>\n",
       "      <td>0.894524</td>\n",
       "      <td>0.103442</td>\n",
       "      <td>0.002034</td>\n",
       "      <td>0.2</td>\n",
       "    </tr>\n",
       "    <tr>\n",
       "      <th>3</th>\n",
       "      <td>0.891729</td>\n",
       "      <td>0.105193</td>\n",
       "      <td>0.003077</td>\n",
       "      <td>0.3</td>\n",
       "    </tr>\n",
       "    <tr>\n",
       "      <th>4</th>\n",
       "      <td>0.888896</td>\n",
       "      <td>0.106966</td>\n",
       "      <td>0.004138</td>\n",
       "      <td>0.4</td>\n",
       "    </tr>\n",
       "  </tbody>\n",
       "</table>\n",
       "</div>"
      ],
      "text/plain": [
       "          S         I         R  Tempo(dias)\n",
       "0  0.900000  0.100000  0.000000          0.0\n",
       "1  0.897281  0.101710  0.001009          0.1\n",
       "2  0.894524  0.103442  0.002034          0.2\n",
       "3  0.891729  0.105193  0.003077          0.3\n",
       "4  0.888896  0.106966  0.004138          0.4"
      ]
     },
     "execution_count": 4,
     "metadata": {},
     "output_type": "execute_result"
    }
   ],
   "source": [
    "#|echo: False\n",
    "#| code-line-numbers: \"|1\"\n",
    "y = odeint(SIR, y0, t)\n",
    "df = pd.DataFrame(data = y, columns=['S','I','R'])\n",
    "df['Tempo(dias)'] = t\n",
    "df.head()"
   ]
  },
  {
   "cell_type": "markdown",
   "id": "6f9881ce-0ea2-4a65-98c6-dd40573953dd",
   "metadata": {
    "tags": []
   },
   "source": [
    "## Gráfico"
   ]
  },
  {
   "cell_type": "code",
   "execution_count": 5,
   "id": "0b6b28ae-e9f3-4b9c-aae0-631992fa23c2",
   "metadata": {
    "tags": []
   },
   "outputs": [
    {
     "data": {
      "image/png": "[encoded data removed]",
      "text/plain": [
       "<Figure size 800x600 with 1 Axes>"
      ]
     },
     "metadata": {},
     "output_type": "display_data"
    }
   ],
   "source": [
    "plt.figure(figsize = (8,6) )\n",
    "plt.plot(t, df['S'], label='Suscetíveis')\n",
    "plt.plot(t, df['I'], label='Infectados')\n",
    "plt.plot(t, df['R'], label='Recuperados')\n",
    "plt.xlabel('Tempo(dias)')\n",
    "plt.ylabel('Proporção da População')\n",
    "plt.title('Modelo SIR: Propagação de uma Doença', loc ='left', fontweight = 'bold')\n",
    "plt.annotate(text = \"S + I + R = 1\", xy = (60,0.7 ))\n",
    "plt.legend()\n",
    "plt.show()"
   ]
  },
  {
   "cell_type": "markdown",
   "id": "66f0215f-47c9-45c0-b05b-d98c2bb6fda3",
   "metadata": {},
   "source": [
    "## Conclusão"
   ]
  },
  {
   "cell_type": "markdown",
   "id": "d1b653f5-886d-4737-ad74-0780aedaa33a",
   "metadata": {},
   "source": [
    "O scipy é uma excelente biblioteca e tem uma boa interação com o numpy. Com algumas linhas de código é possível resolver problemas complexos além de ser facilmente costumisável."
   ]
  },
  {
   "cell_type": "markdown",
   "id": "c07f95a8-f0c8-4932-bfa8-c25f02004027",
   "metadata": {},
   "source": [
    "## Referências"
   ]
  },
  {
   "cell_type": "markdown",
   "id": "caa4bfad-7091-42e5-b443-6052b0782578",
   "metadata": {},
   "source": [
    "* [Um estudo da modelagem epidemiológica SIR\n",
    "usando conceitos de derivadas de ordem inteira\n",
    "e fracionária](https://imef.furg.br/images/stories/Monografias/Matematica_aplicada/2017/AyrtonFarias.pdf)\n"
   ]
  }
 ],
 "metadata": {
  "kernelspec": {
   "display_name": "Python 3 (ipykernel)",
   "language": "python",
   "name": "python3"
  },
  "language_info": {
   "codemirror_mode": {
    "name": "ipython",
    "version": 3
   },
   "file_extension": ".py",
   "mimetype": "text/x-python",
   "name": "python",
   "nbconvert_exporter": "python",
   "pygments_lexer": "ipython3",
   "version": "3.11.4"
  }
 },
 "nbformat": 4,
 "nbformat_minor": 5
}
